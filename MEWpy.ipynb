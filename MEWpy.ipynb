{
 "cells": [
  {
   "cell_type": "markdown",
   "id": "relative-strip",
   "metadata": {},
   "source": [
    "## A basic strain design tutorial using MEWpy"
   ]
  },
  {
   "cell_type": "markdown",
   "id": "elect-johnson",
   "metadata": {},
   "source": [
    "Let's start by loading our model..."
   ]
  },
  {
   "cell_type": "code",
   "execution_count": 2,
   "id": "numerous-senate",
   "metadata": {},
   "outputs": [],
   "source": [
    "from reframed import load_cbmodel\n",
    "model = load_cbmodel(\"models/e_coli_core.xml.gz\", flavor=\"bigg\")"
   ]
  },
  {
   "cell_type": "markdown",
   "id": "swiss-conspiracy",
   "metadata": {},
   "source": [
    "We will define two optimization objectives:\n",
    "\n",
    "* Maximize the flux of our target reaction (succinate production)\n",
    "* Maximize the Biomass-Product Coupled Yield (finds an optimal trade-off between growth and production)"
   ]
  },
  {
   "cell_type": "code",
   "execution_count": 3,
   "id": "experimental-frontier",
   "metadata": {},
   "outputs": [],
   "source": [
    "from mewpy.optimization.evaluation import BPCY, TargetFlux\n",
    "objs = [TargetFlux(\"R_EX_succ_e\"), \n",
    "        BPCY(model.biomass_reaction, \"R_EX_succ_e\")]"
   ]
  },
  {
   "cell_type": "markdown",
   "id": "south-blackberry",
   "metadata": {},
   "source": [
    "Now we define our optimization problem:\n",
    "* Type of modifications we are searching for (reaction knockouts)\n",
    "* Environmental conditions (anaerobic growth)"
   ]
  },
  {
   "cell_type": "code",
   "execution_count": 4,
   "id": "peripheral-exercise",
   "metadata": {},
   "outputs": [],
   "source": [
    "from mewpy.problems import RKOProblem\n",
    "anaerobic = {'R_EX_o2_e': (0, 0)}\n",
    "problem = RKOProblem(model, fevaluation=objs, envcond=anaerobic)"
   ]
  },
  {
   "cell_type": "markdown",
   "id": "disciplinary-lecture",
   "metadata": {},
   "source": [
    "And now we can run the optimization an evolutionary algorithm (EA)"
   ]
  },
  {
   "cell_type": "code",
   "execution_count": 5,
   "id": "excessive-jason",
   "metadata": {
    "scrolled": true
   },
   "outputs": [
    {
     "name": "stdout",
     "output_type": "stream",
     "text": [
      "Running NSGAII\n",
      "Eval(s)|     Worst      Best    Median   Average   Std Dev|     Worst      Best    Median   Average   Std Dev|\n",
      "    100|  -0.000000  9.726412  0.000000  0.354781  1.685039|  -0.000000  0.989784  0.000000  0.023263  0.133588|\n",
      "    200|  -0.000000  9.837897  0.000000  1.129337  2.864062|  0.000000  1.007427  0.000000  0.091571  0.265306|\n",
      "    300|  -0.000000  9.837897  0.343624  3.329903  4.090460|  0.000000  1.095817  0.000272  0.272208  0.400876|\n",
      "    400|  0.636194  9.912807  8.390000  7.639787  2.430810|  0.000000  1.095817  0.822084  0.582253  0.407078|\n",
      "    500|  7.352985  9.912807  9.121247  9.277527  0.378288|  0.000000  1.095817  0.986253  0.779915  0.311338|\n",
      "    600|  7.266987  9.980334  9.585042  9.435319  0.414442|  0.183047  1.752770  0.897027  0.704145  0.348900|\n",
      "    700|  7.266987  10.023557  9.585042  9.451748  0.458678|  0.176551  1.752770  0.897027  0.761985  0.380362|\n",
      "    800|  8.044787  10.023557  9.877849  9.601690  0.471751|  0.176551  1.766529  0.897027  0.748826  0.448743|\n",
      "    900|  8.238886  10.146319  9.905641  9.771887  0.464060|  0.176551  1.766529  0.897027  0.803955  0.494938|\n",
      "   1000|  8.260249  10.146319  9.905641  9.778997  0.478379|  0.176551  1.766529  0.897027  0.861735  0.578727|\n",
      "   1100|  8.260249  10.146319  9.877849  9.599273  0.650724|  0.176551  1.766529  1.125260  1.247402  0.493762|\n",
      "   1200|  8.360326  10.146319  9.818740  9.849411  0.287798|  1.110022  1.768181  1.708042  1.450669  0.294185|\n",
      "   1300|  8.362548  15.828930  9.818740  9.875310  0.653117|  0.218623  1.768181  1.708042  1.495721  0.306505|\n",
      "   1400|  8.362548  15.828930  9.818740  9.864108  0.670807|  0.218623  1.768181  1.708042  1.489517  0.308144|\n",
      "   1500|  8.362548  15.828930  9.818740  9.823864  0.716311|  0.218623  1.768181  1.708042  1.496152  0.307843|\n",
      "   1600|  8.362548  15.828930  9.818740  9.799364  0.743441|  0.218623  1.768181  1.708042  1.490531  0.309948|\n",
      "   1700|  8.362548  15.828930  9.818740  9.757617  0.780680|  0.218623  1.768181  1.708042  1.485664  0.312246|\n",
      "   1800|  8.362548  15.828930  9.818740  9.719887  0.815445|  0.218623  1.768181  1.708042  1.481373  0.315227|\n",
      "   1900|  8.360326  15.828930  9.818740  9.648398  1.139873|  0.218623  1.768181  1.708042  1.671230  0.232326|\n",
      "   2000|  8.362548  15.828930  9.818740  9.610936  1.115385|  0.218623  1.768181  1.708042  1.680473  0.217081|\n",
      "   2100|  8.362548  15.839325  9.818740  9.744588  1.409843|  0.204101  1.768181  1.708042  1.649951  0.298793|\n",
      "   2200|  8.362548  15.839325  9.818740  9.775613  1.547513|  0.204101  1.768181  1.708042  1.636254  0.331291|\n",
      "   2300|  8.362548  15.839325  9.818740  9.847374  1.684580|  0.204101  1.768181  1.708042  1.618361  0.361887|\n",
      "   2400|  8.362548  15.839325  9.818740  9.879399  1.797900|  0.204101  1.768181  1.708042  1.604725  0.387773|\n",
      "   2500|  8.362548  15.839325  9.818740  9.837061  1.815454|  0.204101  1.768181  1.708042  1.605685  0.388253|\n",
      "   2600|  8.362548  15.839325  9.818740  9.989184  2.093999|  0.204101  1.768181  1.708042  1.561498  0.453901|\n",
      "   2700|  8.362548  15.839325  9.818740  10.114539  2.340975|  0.204101  1.768181  1.708042  1.518486  0.507862|\n",
      "   2800|  8.362548  15.839325  9.818740  10.252016  2.553197|  0.204101  1.768181  1.708042  1.475726  0.553296|\n",
      "   2900|  8.362548  15.839325  9.818740  10.522564  2.854672|  0.204101  1.768181  1.708042  1.398436  0.614127|\n",
      "   3000|  8.362548  15.839325  9.818740  10.740103  2.987687|  0.204101  1.768181  1.708042  1.347868  0.641911|\n",
      "   3100|  8.362548  15.839325  9.818740  11.046151  3.115016|  0.204101  1.768181  1.708042  1.285724  0.672088|\n",
      "   3200|  8.362548  15.880998  9.827161  11.466988  3.211852|  0.180063  1.768181  1.625449  1.202689  0.698697|\n",
      "   3300|  8.362548  15.880998  9.827161  11.707491  3.368230|  0.180063  1.768181  1.625449  1.133932  0.733782|\n",
      "   3400|  8.362548  15.880998  9.827161  11.884377  3.377641|  0.180063  1.768181  1.625449  1.100869  0.737544|\n",
      "   3500|  8.362548  15.880998  11.018558  12.170299  3.327666|  0.180063  1.768181  1.576188  1.058737  0.733630|\n",
      "   3600|  8.362548  15.880998  9.827161  12.066844  3.304895|  0.180063  1.768181  1.625449  1.086488  0.727056|\n",
      "   3700|  8.362548  15.880998  12.209954  12.156170  3.310417|  0.180063  1.768181  1.526926  1.069360  0.727976|\n",
      "   3800|  8.362548  15.880998  9.827161  12.083832  3.337647|  0.180063  1.768181  1.625449  1.065688  0.737226|\n",
      "   3900|  8.362548  15.880998  12.209954  12.149237  3.308129|  0.180063  1.768181  1.526926  1.060833  0.734184|\n",
      "   4000|  8.362548  15.880998  12.229665  12.167580  3.268816|  0.180063  1.768181  1.522591  1.057035  0.731794|\n",
      "   4100|  8.362548  15.880998  12.209954  12.033134  3.230673|  0.180063  1.768181  1.526926  1.084772  0.727577|\n",
      "   4200|  8.362548  15.880998  12.229665  12.144229  3.184594|  0.180063  1.768181  1.522591  1.064543  0.726566|\n",
      "   4300|  8.362548  15.880998  12.249375  12.163401  3.112729|  0.180063  1.768181  1.518255  1.058988  0.722865|\n",
      "   4400|  8.362548  15.880998  12.307636  12.313021  3.050088|  0.180063  1.768181  1.505270  1.023536  0.721135|\n",
      "   4500|  8.362548  15.880998  12.546291  12.432395  3.020206|  0.180063  1.768181  1.448778  0.984087  0.725751|\n",
      "   4600|  8.362548  15.880998  12.765755  12.505771  2.949400|  0.180063  1.768181  1.396592  0.965762  0.722772|\n",
      "   4700|  8.362548  15.880998  12.795601  12.587001  2.909479|  0.180063  1.768181  1.324476  0.945605  0.717780|\n",
      "   4800|  8.362548  15.880998  12.558082  12.639246  3.098455|  0.180063  1.768181  1.411322  1.018903  0.712597|\n",
      "   4900|  8.362548  15.880998  12.338618  12.643181  3.052787|  0.180063  1.768181  1.463508  1.029202  0.707489|\n",
      "   5000|  8.362548  15.880998  12.338618  12.595816  3.022097|  0.180063  1.768181  1.463508  1.048588  0.698459|\n",
      "   5100|  8.362548  15.880998  12.765755  12.753128  2.971080|  0.180063  1.768181  1.396592  1.022343  0.693210|\n",
      "   5200|  8.362548  15.880998  12.765755  12.831999  2.974012|  0.180063  1.768181  1.396592  1.002087  0.692936|\n",
      "   5300|  8.362548  15.880998  12.765755  12.871628  2.940389|  0.180063  1.768181  1.396592  0.999420  0.690483|\n",
      "   5400|  8.362548  15.880998  12.765755  12.846170  2.865996|  0.180063  1.768181  1.396592  1.023135  0.674871|\n",
      "   5500|  8.362548  15.880998  12.780678  12.816985  2.839288|  0.180063  1.768181  1.360534  1.036526  0.663664|\n",
      "   5600|  8.362548  15.880998  12.795601  12.887449  2.811459|  0.180063  1.768181  1.324476  1.024128  0.658619|\n",
      "   5700|  8.362548  15.880998  12.795601  13.047708  2.772782|  0.180063  1.768181  1.324476  0.990646  0.658925|\n",
      "   5800|  8.362548  15.880998  12.795601  13.026347  2.762178|  0.180063  1.768181  1.324476  0.999749  0.655626|\n",
      "   5900|  8.362548  15.880998  12.795601  13.043375  2.774447|  0.180063  1.768181  1.324476  0.992038  0.660667|\n",
      "   6000|  8.362548  15.880998  12.795601  13.066968  2.724197|  0.180063  1.768181  1.324476  0.995767  0.653419|\n",
      "   6100|  8.362548  15.880998  13.425336  13.124479  2.684793|  0.180063  1.768181  1.159627  0.987815  0.648799|\n",
      "   6200|  8.362548  15.880998  12.795601  13.089238  2.671561|  0.180063  1.768181  1.324476  1.000163  0.645262|\n",
      "   6300|  8.362548  15.880998  12.795601  13.089238  2.671561|  0.180063  1.768181  1.324476  1.000163  0.645262|\n",
      "   6400|  8.362548  15.880998  12.795601  13.057217  2.647939|  0.180063  1.768181  1.324476  1.014463  0.635576|\n",
      "   6500|  8.362548  15.880998  12.795601  13.041677  2.636407|  0.180063  1.768181  1.324476  1.021427  0.630796|\n",
      "   6600|  8.362548  15.880998  14.055072  13.149397  2.676466|  0.180063  1.768181  0.994777  0.981651  0.640486|\n",
      "   6700|  8.362548  15.880998  14.055072  13.206901  2.637102|  0.180063  1.768181  0.994777  0.973292  0.635620|\n",
      "   6800|  8.362548  15.880998  14.055072  13.132972  2.664689|  0.180063  1.768181  0.994777  0.989064  0.635548|\n",
      "   6900|  8.362548  15.880998  14.055072  13.206901  2.637102|  0.180063  1.768181  0.994777  0.973292  0.635620|\n",
      "   7000|  8.362548  15.880998  14.055072  13.206901  2.637102|  0.180063  1.768181  0.994777  0.973292  0.635620|\n",
      "   7100|  8.362548  15.880998  14.055072  13.188979  2.636530|  0.180063  1.768181  0.994777  0.977963  0.637155|\n",
      "   7200|  8.362548  15.880998  14.055072  13.188979  2.636530|  0.180063  1.768181  0.994777  0.977963  0.637155|\n"
     ]
    },
    {
     "name": "stdout",
     "output_type": "stream",
     "text": [
      "   7300|  8.362548  15.880998  14.055072  13.189334  2.636419|  0.180063  1.768181  0.994777  0.977886  0.637101|\n",
      "   7400|  8.362548  15.880998  14.055072  13.203459  2.637895|  0.180063  1.768181  0.994777  0.973432  0.635714|\n",
      "   7500|  8.362548  15.880998  14.055072  13.203459  2.637895|  0.180063  1.768181  0.994777  0.973432  0.635714|\n",
      "   7600|  8.362548  15.880998  14.055072  13.203459  2.637895|  0.180063  1.768181  0.994777  0.973432  0.635714|\n",
      "   7700|  8.362548  15.880998  14.055072  13.203459  2.637895|  0.180063  1.768181  0.994777  0.973432  0.635714|\n",
      "   7800|  8.362548  15.880998  14.055072  13.185537  2.637300|  0.180063  1.768181  0.994777  0.978103  0.637248|\n",
      "   7900|  8.362548  15.883427  14.055072  13.263835  2.640594|  0.178657  1.768181  0.994777  0.954871  0.642650|\n",
      "   8000|  8.362548  15.883427  14.055072  13.203188  2.649363|  0.178657  1.768181  0.994777  0.970165  0.642193|\n",
      "   8100|  8.362548  15.883427  14.055072  13.203150  2.649324|  0.178657  1.768181  0.994777  0.970261  0.642076|\n",
      "   8200|  8.362548  15.883427  14.055072  13.203150  2.649324|  0.178657  1.768181  0.994777  0.970261  0.642076|\n",
      "   8300|  8.362548  15.883427  14.055072  13.203150  2.649324|  0.178657  1.768181  0.994777  0.970261  0.642076|\n",
      "   8400|  8.362548  15.883427  14.055072  13.203150  2.649324|  0.178657  1.768181  0.994777  0.970261  0.642076|\n",
      "   8500|  8.362548  15.883427  14.055072  13.203150  2.649324|  0.178657  1.768181  0.994777  0.970261  0.642076|\n",
      "   8600|  8.362548  15.883427  14.055072  13.203150  2.649324|  0.178657  1.768181  0.994777  0.970261  0.642076|\n",
      "   8700|  8.362548  15.883427  14.055072  13.203150  2.649324|  0.178657  1.768181  0.994777  0.970261  0.642076|\n",
      "   8800|  8.362548  15.883427  14.055072  13.203150  2.649324|  0.178657  1.768181  0.994777  0.970261  0.642076|\n",
      "   8900|  8.362548  15.883427  14.055072  13.203150  2.649324|  0.178657  1.768181  0.994777  0.970261  0.642076|\n",
      "   9000|  8.368047  15.883427  14.086682  13.455250  2.423582|  0.178657  1.769427  0.983645  0.938153  0.626814|\n",
      "   9100|  8.368047  15.883427  14.086682  13.399155  2.462833|  0.178657  1.769427  0.983645  0.948163  0.625590|\n",
      "   9200|  8.368047  15.883427  14.086682  13.404319  2.460958|  0.178657  1.769427  0.983645  0.946947  0.624598|\n",
      "   9300|  8.368047  15.883427  14.086682  13.404319  2.460958|  0.178657  1.769427  0.983645  0.946947  0.624598|\n",
      "   9400|  8.368047  15.883427  14.086682  13.403156  2.463307|  0.178657  1.769427  0.983645  0.946972  0.624631|\n",
      "   9500|  8.368047  15.883427  14.086682  13.359179  2.513048|  0.178657  1.769427  0.983645  0.950700  0.628405|\n",
      "   9600|  8.368047  15.883427  14.086682  13.443523  2.411138|  0.178657  1.769427  0.983645  0.944348  0.621704|\n",
      "   9700|  8.368047  15.883427  14.118292  13.479472  2.420431|  0.178657  1.769427  0.972513  0.931039  0.623704|\n",
      "   9800|  8.368047  15.883427  14.118292  13.479472  2.420431|  0.178657  1.769427  0.972513  0.931039  0.623704|\n",
      "   9900|  8.368047  15.883427  14.118292  13.478310  2.422856|  0.178657  1.769427  0.972513  0.931064  0.623738|\n",
      "  10000|  8.368047  15.883427  14.055072  13.368077  2.450993|  0.178657  1.769427  0.994777  0.960286  0.622409|\n"
     ]
    }
   ],
   "source": [
    "from mewpy.optimization import EA\n",
    "solutions = EA(problem, max_generations=100).run()"
   ]
  },
  {
   "cell_type": "markdown",
   "id": "streaming-momentum",
   "metadata": {},
   "source": [
    "To make our life easier, let's convert the result to a Pandas DataFrame:"
   ]
  },
  {
   "cell_type": "code",
   "execution_count": 7,
   "id": "typical-easter",
   "metadata": {
    "scrolled": true
   },
   "outputs": [],
   "source": [
    "import pandas as pd\n",
    "get_list = lambda x: [r_id[2:] for r_id in x.values]\n",
    "table = [[get_list(x), len(get_list(x)), x.fitness[0], x.fitness[1]] for x in solutions]\n",
    "df = pd.DataFrame(table, columns=[\"reactions\", \"knockouts\", \"target\", \"BPCY\"])"
   ]
  },
  {
   "cell_type": "markdown",
   "id": "saved-northern",
   "metadata": {},
   "source": [
    "We can now sort the results, for instance by the total number of required knockouts:"
   ]
  },
  {
   "cell_type": "code",
   "execution_count": 8,
   "id": "widespread-victoria",
   "metadata": {},
   "outputs": [
    {
     "data": {
      "text/html": [
       "<div>\n",
       "<style scoped>\n",
       "    .dataframe tbody tr th:only-of-type {\n",
       "        vertical-align: middle;\n",
       "    }\n",
       "\n",
       "    .dataframe tbody tr th {\n",
       "        vertical-align: top;\n",
       "    }\n",
       "\n",
       "    .dataframe thead th {\n",
       "        text-align: right;\n",
       "    }\n",
       "</style>\n",
       "<table border=\"1\" class=\"dataframe\">\n",
       "  <thead>\n",
       "    <tr style=\"text-align: right;\">\n",
       "      <th></th>\n",
       "      <th>reactions</th>\n",
       "      <th>knockouts</th>\n",
       "      <th>target</th>\n",
       "      <th>BPCY</th>\n",
       "    </tr>\n",
       "  </thead>\n",
       "  <tbody>\n",
       "    <tr>\n",
       "      <th>66</th>\n",
       "      <td>[ACALD, THD2, D_LACt2, ATPM, PYRt2]</td>\n",
       "      <td>5</td>\n",
       "      <td>9.818740</td>\n",
       "      <td>1.708042</td>\n",
       "    </tr>\n",
       "    <tr>\n",
       "      <th>18</th>\n",
       "      <td>[ACALD, THD2, GLUDy, D_LACt2, ATPM, PYRt2]</td>\n",
       "      <td>6</td>\n",
       "      <td>9.827161</td>\n",
       "      <td>1.625449</td>\n",
       "    </tr>\n",
       "    <tr>\n",
       "      <th>10</th>\n",
       "      <td>[ACALD, THD2, AKGt2r, D_LACt2, ATPM, PYRt2]</td>\n",
       "      <td>6</td>\n",
       "      <td>9.818740</td>\n",
       "      <td>1.708042</td>\n",
       "    </tr>\n",
       "    <tr>\n",
       "      <th>15</th>\n",
       "      <td>[PYK, ACALD, D_LACt2, ATPM, TKT2, PDH, PYRt2]</td>\n",
       "      <td>7</td>\n",
       "      <td>8.598079</td>\n",
       "      <td>1.765442</td>\n",
       "    </tr>\n",
       "    <tr>\n",
       "      <th>30</th>\n",
       "      <td>[PYK, RPE, ACALD, D_LACt2, ATPM, PDH, PYRt2]</td>\n",
       "      <td>7</td>\n",
       "      <td>8.484277</td>\n",
       "      <td>1.766891</td>\n",
       "    </tr>\n",
       "    <tr>\n",
       "      <th>...</th>\n",
       "      <td>...</td>\n",
       "      <td>...</td>\n",
       "      <td>...</td>\n",
       "      <td>...</td>\n",
       "    </tr>\n",
       "    <tr>\n",
       "      <th>40</th>\n",
       "      <td>[PYK, ACALD, THD2, ME1, GLUDy, ATPM, D_LACt2, ...</td>\n",
       "      <td>10</td>\n",
       "      <td>15.839325</td>\n",
       "      <td>0.204101</td>\n",
       "    </tr>\n",
       "    <tr>\n",
       "      <th>39</th>\n",
       "      <td>[PYK, RPE, ACALD, PFL, GLUDy, AKGt2r, ATPM, D_...</td>\n",
       "      <td>10</td>\n",
       "      <td>12.350409</td>\n",
       "      <td>1.426052</td>\n",
       "    </tr>\n",
       "    <tr>\n",
       "      <th>35</th>\n",
       "      <td>[PYK, ACALD, TALA, PFL, ME1, D_LACt2, ATPM, CY...</td>\n",
       "      <td>10</td>\n",
       "      <td>12.249375</td>\n",
       "      <td>1.518255</td>\n",
       "    </tr>\n",
       "    <tr>\n",
       "      <th>62</th>\n",
       "      <td>[PYK, ACALD, PFL, THD2, D_LACt2, AKGt2r, TKT2,...</td>\n",
       "      <td>10</td>\n",
       "      <td>14.055072</td>\n",
       "      <td>0.994777</td>\n",
       "    </tr>\n",
       "    <tr>\n",
       "      <th>99</th>\n",
       "      <td>[ACALD, TALA, PFL, FUMt2_2, AKGt2r, ATPM, D_LA...</td>\n",
       "      <td>10</td>\n",
       "      <td>12.249375</td>\n",
       "      <td>1.518255</td>\n",
       "    </tr>\n",
       "  </tbody>\n",
       "</table>\n",
       "<p>100 rows × 4 columns</p>\n",
       "</div>"
      ],
      "text/plain": [
       "                                            reactions  knockouts     target  \\\n",
       "66                [ACALD, THD2, D_LACt2, ATPM, PYRt2]          5   9.818740   \n",
       "18         [ACALD, THD2, GLUDy, D_LACt2, ATPM, PYRt2]          6   9.827161   \n",
       "10        [ACALD, THD2, AKGt2r, D_LACt2, ATPM, PYRt2]          6   9.818740   \n",
       "15      [PYK, ACALD, D_LACt2, ATPM, TKT2, PDH, PYRt2]          7   8.598079   \n",
       "30       [PYK, RPE, ACALD, D_LACt2, ATPM, PDH, PYRt2]          7   8.484277   \n",
       "..                                                ...        ...        ...   \n",
       "40  [PYK, ACALD, THD2, ME1, GLUDy, ATPM, D_LACt2, ...         10  15.839325   \n",
       "39  [PYK, RPE, ACALD, PFL, GLUDy, AKGt2r, ATPM, D_...         10  12.350409   \n",
       "35  [PYK, ACALD, TALA, PFL, ME1, D_LACt2, ATPM, CY...         10  12.249375   \n",
       "62  [PYK, ACALD, PFL, THD2, D_LACt2, AKGt2r, TKT2,...         10  14.055072   \n",
       "99  [ACALD, TALA, PFL, FUMt2_2, AKGt2r, ATPM, D_LA...         10  12.249375   \n",
       "\n",
       "        BPCY  \n",
       "66  1.708042  \n",
       "18  1.625449  \n",
       "10  1.708042  \n",
       "15  1.765442  \n",
       "30  1.766891  \n",
       "..       ...  \n",
       "40  0.204101  \n",
       "39  1.426052  \n",
       "35  1.518255  \n",
       "62  0.994777  \n",
       "99  1.518255  \n",
       "\n",
       "[100 rows x 4 columns]"
      ]
     },
     "execution_count": 8,
     "metadata": {},
     "output_type": "execute_result"
    }
   ],
   "source": [
    "df.sort_values(\"knockouts\")"
   ]
  },
  {
   "cell_type": "markdown",
   "id": "voluntary-steps",
   "metadata": {},
   "source": [
    "We can also look at the trade-off of our two objectives (the so-called Pareto front)"
   ]
  },
  {
   "cell_type": "code",
   "execution_count": 9,
   "id": "funded-lightning",
   "metadata": {},
   "outputs": [
    {
     "data": {
      "text/plain": [
       "<matplotlib.axes._subplots.AxesSubplot at 0x7fbd50093898>"
      ]
     },
     "execution_count": 9,
     "metadata": {},
     "output_type": "execute_result"
    },
    {
     "data": {
      "image/png": "[encoded data removed]",
      "text/plain": [
       "<Figure size 432x288 with 1 Axes>"
      ]
     },
     "metadata": {
      "needs_background": "light"
     },
     "output_type": "display_data"
    }
   ],
   "source": [
    "df.plot.scatter(\"BPCY\", \"target\")"
   ]
  },
  {
   "cell_type": "code",
   "execution_count": null,
   "id": "minus-bouquet",
   "metadata": {},
   "outputs": [],
   "source": []
  }
 ],
 "metadata": {
  "kernelspec": {
   "display_name": "Python 3",
   "language": "python",
   "name": "python3"
  },
  "language_info": {
   "codemirror_mode": {
    "name": "ipython",
    "version": 3
   },
   "file_extension": ".py",
   "mimetype": "text/x-python",
   "name": "python",
   "nbconvert_exporter": "python",
   "pygments_lexer": "ipython3",
   "version": "3.6.12"
  }
 },
 "nbformat": 4,
 "nbformat_minor": 5
}
