{
 "cells": [
  {
   "cell_type": "code",
   "execution_count": null,
   "id": "numerous-senate",
   "metadata": {},
   "outputs": [],
   "source": [
    "from reframed import load_cbmodel\n",
    "model = load_cbmodel(\"e_coli_core.xml.gz\", flavor=\"bigg\")"
   ]
  },
  {
   "cell_type": "code",
   "execution_count": null,
   "id": "experimental-frontier",
   "metadata": {},
   "outputs": [],
   "source": [
    "from mewpy.optimization.evaluation import BPCY, TargetFlux\n",
    "objs = [TargetFlux(\"R_EX_succ_e\"), \n",
    "        BPCY(model.biomass_reaction, \"R_EX_succ_e\")]"
   ]
  },
  {
   "cell_type": "code",
   "execution_count": null,
   "id": "peripheral-exercise",
   "metadata": {},
   "outputs": [],
   "source": [
    "from mewpy.problems import RKOProblem\n",
    "anaerobic = {'R_EX_o2_e': (0, 0)}\n",
    "problem = RKOProblem(model, fevaluation=objs, envcond=anaerobic)"
   ]
  },
  {
   "cell_type": "code",
   "execution_count": null,
   "id": "excessive-jason",
   "metadata": {
    "scrolled": true
   },
   "outputs": [],
   "source": [
    "from mewpy.optimization import EA\n",
    "sols = EA(problem, max_generations=100).run()"
   ]
  },
  {
   "cell_type": "code",
   "execution_count": null,
   "id": "typical-easter",
   "metadata": {
    "scrolled": true
   },
   "outputs": [],
   "source": [
    "import pandas as pd\n",
    "get_list = lambda x: [r_id[2:] for r_id in x.values]\n",
    "table = [[get_list(x), len(get_list(x)), x.fitness[0], x.fitness[1]] for x in sols]\n",
    "df = pd.DataFrame(table, columns=[\"reactions\", \"knockouts\", \"target\", \"BPCY\"])           "
   ]
  },
  {
   "cell_type": "code",
   "execution_count": null,
   "id": "widespread-victoria",
   "metadata": {},
   "outputs": [],
   "source": [
    "df.sort_values(\"knockouts\")"
   ]
  },
  {
   "cell_type": "code",
   "execution_count": null,
   "id": "funded-lightning",
   "metadata": {},
   "outputs": [],
   "source": [
    "df.plot.scatter(\"BPCY\", \"target\")"
   ]
  }
 ],
 "metadata": {
  "kernelspec": {
   "display_name": "Python 3",
   "language": "python",
   "name": "python3"
  },
  "language_info": {
   "codemirror_mode": {
    "name": "ipython",
    "version": 3
   },
   "file_extension": ".py",
   "mimetype": "text/x-python",
   "name": "python",
   "nbconvert_exporter": "python",
   "pygments_lexer": "ipython3",
   "version": "3.6.12"
  }
 },
 "nbformat": 4,
 "nbformat_minor": 5
}
